{
  "nbformat": 4,
  "nbformat_minor": 0,
  "metadata": {
    "colab": {
      "name": "Copy of Sports Teams Rankings.ipynb",
      "provenance": [],
      "include_colab_link": true
    },
    "kernelspec": {
      "name": "python3",
      "display_name": "Python 3"
    }
  },
  "cells": [
    {
      "cell_type": "markdown",
      "metadata": {
        "id": "view-in-github",
        "colab_type": "text"
      },
      "source": [
        "<a href=\"https://colab.research.google.com/github/Kx9357zl/Projects-for-Linear-Algebra/blob/main/Copy_of_Sports_Teams_Rankings.ipynb\" target=\"_parent\"><img src=\"https://colab.research.google.com/assets/colab-badge.svg\" alt=\"Open In Colab\"/></a>"
      ]
    },
    {
      "cell_type": "markdown",
      "metadata": {
        "id": "TwGBRAD9R6W4"
      },
      "source": [
        "# Load the preliminary code"
      ]
    },
    {
      "cell_type": "code",
      "metadata": {
        "id": "NaP8xyCfRrUg"
      },
      "source": [
        "import matplotlib.pyplot as plt\n",
        "from sympy import Poly\n",
        "import sympy as sym\n",
        "import numpy as np\n",
        "from numpy import c_\n",
        "\n",
        "# We'll specify that x and t are variables:\n",
        "x, t = sym.symbols('x, t')\n",
        "\n",
        "ll = \"loaded\""
      ],
      "execution_count": null,
      "outputs": []
    },
    {
      "cell_type": "code",
      "metadata": {
        "id": "CANB9fuMRyBP",
        "colab": {
          "base_uri": "https://localhost:8080/"
        },
        "outputId": "7eb6240b-c83f-46fa-cf35-d24c5542e842"
      },
      "source": [
        "lll = \" correctly!\"\n",
        "\n",
        "def rref(matrix):\n",
        "    A = np.array(matrix, dtype=np.float64)\n",
        "    \n",
        "    r = 0 #row\n",
        "    c = 0 #column\n",
        "\n",
        "    (maxr, maxc) = A.shape\n",
        "\n",
        "    prev_row_pivot = -1   # The previous row with a leading term:\n",
        "    tmp_pivot_row = -1\n",
        "    this_pivot_row = -1\n",
        "\n",
        "    for c in range(maxc):  # go through each column\n",
        "      tmp_pivot_row = -1  # reset the tmp pivot row\n",
        "      this_pivot_row = -1  # reset this pivot row\n",
        "      for r in range(maxr):  # Find the leading term in this column below prev_row_pivot\n",
        "        if ((r > prev_row_pivot) and (A[r][c] != 0.0)):\n",
        "          tmp_pivot_row = r  # find the new pivot row\n",
        "      if (tmp_pivot_row > -1):  # we found a candidate for the leading term:\n",
        "        #swap row this_pivot_row with (prev_row_pivot + 1)\n",
        "        A[[tmp_pivot_row, prev_row_pivot+1]] = A[[prev_row_pivot + 1, tmp_pivot_row]]\n",
        "        #set this_pivot_row to prev_row_pivot+1\n",
        "        this_pivot_row = prev_row_pivot + 1\n",
        "        #Now, normalize the row based on the pivot value:\n",
        "        A[ this_pivot_row ] = A[ this_pivot_row ] / A[ this_pivot_row ][c]\n",
        "        #Then, use this row to force 0's above and below the pivot entry:\n",
        "        #subtract multiples of of the this_pivot_row row from the others\n",
        "        for r_ in range(len(A)):\n",
        "            if r_ != this_pivot_row:\n",
        "                A[r_] = A[r_] - A[this_pivot_row] * A[r_][c] / A[this_pivot_row][c]\n",
        "        prev_row_pivot = this_pivot_row\n",
        "    return A   \n",
        "\n",
        "\n",
        "def is_singular(matrix):\n",
        "  singular = True\n",
        "  notsingular = False\n",
        "\n",
        "  (mr, mc) = matrix.shape\n",
        "  \n",
        "  return_value = notsingular\n",
        "  if (mc - np.linalg.linalg.matrix_rank(matrix) > 0) :\n",
        "    return_value = singular\n",
        "  return return_value\n",
        " \n",
        "    \n",
        "    \n",
        "\n",
        "print(\">> The page \", ll, lll)"
      ],
      "execution_count": null,
      "outputs": [
        {
          "output_type": "stream",
          "text": [
            ">> The page  loaded  correctly!\n"
          ],
          "name": "stdout"
        }
      ]
    },
    {
      "cell_type": "markdown",
      "metadata": {
        "id": "dCB31bhvTulU"
      },
      "source": [
        "# Ranking Teams based on games\n",
        "\n",
        "From our packet, we saw there were five games:\n",
        "\n",
        "Home  | Away\n",
        "------|------\n",
        "Winona State 16 | Sioux Falls 15\n",
        "Winona State 34 | Augustana 20\n",
        "Sioux Falls 51  | Augustana 13\n",
        "Duluth 28       |  Augustana 17\n",
        "Winona State 17 | Duluth 37\n",
        "\n",
        "Let's encode this system into a matrix.\n",
        "\n",
        "The unknown rankings are $r_w, r_s, r_a, r_d$.\n",
        "\n",
        "The system looks like $M \\vec{x} = \\vec{b}$, or\n",
        "\n",
        "$$\n",
        "\\left( \\begin{array}{cccc} 1 & -1 & 0 & 0 \\\\ 1 & 0 & -1 & 0 \\\\ 0 & 1 & -1 & 0 \\\\ 0 & 0 & -1 & 1 \\\\ -1 & 0  & 0 & 1 \\\\ \\end{array} \\right) \\, \\left( \\begin{array}{c} r_w \\\\ r_s \\\\ r_a \\\\ r_d \\\\ \\end{array} \\right) = \\left( \\begin{array}{c} 1 \\\\ 14 \\\\ 38 \\\\ 11 \\\\ 20 \\\\ \\end{array} \\right)$$\n",
        "\n",
        "We'll solve this system using least squares \n",
        "$$M^T I M \\vec{x} = M^T I \\vec{b} $$\n",
        "\n",
        "$$ \\vec{x} = \\left( M^T I M  \\right)^{-1} M^T I \\vec{b} $$\n",
        "\n",
        "\n",
        "\n",
        "\n"
      ]
    },
    {
      "cell_type": "code",
      "metadata": {
        "id": "zZOH_e5mViMs",
        "colab": {
          "base_uri": "https://localhost:8080/"
        },
        "outputId": "f2aad2c1-462f-478b-b2ac-f7dfc74b4e8e"
      },
      "source": [
        "# create the matrix:\n",
        "M = np.matrix([[1, 0, 0, 0, -1, 0, 0],\n",
        "              [1, -1, 0, 0, 0, 0, 0], \n",
        "              [1, 0, 0, 0, 0, 0, -1], \n",
        "             [-1, 0, 1, 0, 0, 0, 0],\n",
        "             [1, 0, 0, 0, -1, 0, 0],\n",
        "             [-1, 0, 1, 0, 0, 0, 0],\n",
        "             [1, 0, 0, 0, 0, 0, -1],\n",
        "             [-1, 0, 0, 1, 0, 0, 0],\n",
        "             [-1, 0, 0, 0, 0, 1, 0],\n",
        "             [-1, 0, 1, 0, 0, 0, 0],\n",
        "             [0, -1, 0, 1, 0, 0, 0],\n",
        "             [0, 1, -1, 0, 0, 0, 0],\n",
        "             [0, -1, 1, 0, 0, 0, 0],\n",
        "             [0, -1, 0, 0, 0, 1, 0],\n",
        "             [0, 1, 0, 0, -1, 0, 0],\n",
        "             [0, 1, 0, 0, 0, -1, 0],\n",
        "             [0, -1, 0, 1, 0, 0, 0],\n",
        "             [0, -1, 0, 0, 0, 0, 1],\n",
        "             [0, -1, 0, 0, 1, 0, 0],\n",
        "             [0, 0, 1, 0, -1, 0, 0],\n",
        "             [0, 0, 1, 0, 0, 0, -1],\n",
        "             [0, 0, 1, 0, 0, 0, -1],\n",
        "             [0, 0, -1, 1, 0, 0, 0],\n",
        "             [0, 0, 1, 0, -1, 0, 0],\n",
        "             [0, 0, 0, 1, 0, -1, 0],\n",
        "             [0, 0, 0, 1, 0, 0, -1],\n",
        "             [0, 0, 0, 1, -1, 0, 0],\n",
        "             [0, 0, 0, 1, 0, 0, -1],\n",
        "             [0, 0, 0, 1, -1, 0, 0],\n",
        "             [0, 0, 0, 0, -1, 1, 0],\n",
        "             [0, 0, 0, 0, -1, 0, 1],\n",
        "             [0, 0, 0, 0, 0, 1, -1]])\n",
        "\n",
        "\n",
        "# create the vector for the right hand side:\n",
        "pts = np.matrix([[14], [12], [16], [15], [13], [15], [17], [5], [4], [4], [27], [7], [15], [19], [18], [3], [31], [7], [4], [15], [15], [23], [5], [38], [12], [25], [5], [7], [16], [17], [1], [5]])\n",
        " \n",
        "#Make sure the system looks appropriate:\n",
        "print(np.c_[M,pts])"
      ],
      "execution_count": null,
      "outputs": [
        {
          "output_type": "stream",
          "text": [
            "[[ 1  0  0  0 -1  0  0 14]\n",
            " [ 1 -1  0  0  0  0  0 12]\n",
            " [ 1  0  0  0  0  0 -1 16]\n",
            " [-1  0  1  0  0  0  0 15]\n",
            " [ 1  0  0  0 -1  0  0 13]\n",
            " [-1  0  1  0  0  0  0 15]\n",
            " [ 1  0  0  0  0  0 -1 17]\n",
            " [-1  0  0  1  0  0  0  5]\n",
            " [-1  0  0  0  0  1  0  4]\n",
            " [-1  0  1  0  0  0  0  4]\n",
            " [ 0 -1  0  1  0  0  0 27]\n",
            " [ 0  1 -1  0  0  0  0  7]\n",
            " [ 0 -1  1  0  0  0  0 15]\n",
            " [ 0 -1  0  0  0  1  0 19]\n",
            " [ 0  1  0  0 -1  0  0 18]\n",
            " [ 0  1  0  0  0 -1  0  3]\n",
            " [ 0 -1  0  1  0  0  0 31]\n",
            " [ 0 -1  0  0  0  0  1  7]\n",
            " [ 0 -1  0  0  1  0  0  4]\n",
            " [ 0  0  1  0 -1  0  0 15]\n",
            " [ 0  0  1  0  0  0 -1 15]\n",
            " [ 0  0  1  0  0  0 -1 23]\n",
            " [ 0  0 -1  1  0  0  0  5]\n",
            " [ 0  0  1  0 -1  0  0 38]\n",
            " [ 0  0  0  1  0 -1  0 12]\n",
            " [ 0  0  0  1  0  0 -1 25]\n",
            " [ 0  0  0  1 -1  0  0  5]\n",
            " [ 0  0  0  1  0  0 -1  7]\n",
            " [ 0  0  0  1 -1  0  0 16]\n",
            " [ 0  0  0  0 -1  1  0 17]\n",
            " [ 0  0  0  0 -1  0  1  1]\n",
            " [ 0  0  0  0  0  1 -1  5]]\n"
          ],
          "name": "stdout"
        }
      ]
    },
    {
      "cell_type": "code",
      "metadata": {
        "id": "s_r-ljCGWB18",
        "colab": {
          "base_uri": "https://localhost:8080/"
        },
        "outputId": "0c3da3ad-a7b9-43a4-b035-bab5bbd9a2ba"
      },
      "source": [
        "# Generate the transpose of M:\n",
        "MT = M.transpose()\n",
        "\n",
        "print(\"The Transpose of M is:\")\n",
        "print(MT)\n",
        "\n",
        "# and find MT*M and MT*pts:\n",
        "print(\"\\n\")\n",
        "print(\"MT * M is: \")\n",
        "MTM = MT * M\n",
        "print(MTM)\n",
        "\n",
        "print(\"\\n\")\n",
        "print(\"MT * pts is:\")\n",
        "MTpts = MT * pts\n",
        "print(MTpts)\n"
      ],
      "execution_count": null,
      "outputs": [
        {
          "output_type": "stream",
          "text": [
            "The Transpose of M is:\n",
            "[[ 1  1  1 -1  1 -1  1 -1 -1 -1  0  0  0  0  0  0  0  0  0  0  0  0  0  0\n",
            "   0  0  0  0  0  0  0  0]\n",
            " [ 0 -1  0  0  0  0  0  0  0  0 -1  1 -1 -1  1  1 -1 -1 -1  0  0  0  0  0\n",
            "   0  0  0  0  0  0  0  0]\n",
            " [ 0  0  0  1  0  1  0  0  0  1  0 -1  1  0  0  0  0  0  0  1  1  1 -1  1\n",
            "   0  0  0  0  0  0  0  0]\n",
            " [ 0  0  0  0  0  0  0  1  0  0  1  0  0  0  0  0  1  0  0  0  0  0  1  0\n",
            "   1  1  1  1  1  0  0  0]\n",
            " [-1  0  0  0 -1  0  0  0  0  0  0  0  0  0 -1  0  0  0  1 -1  0  0  0 -1\n",
            "   0  0 -1  0 -1 -1 -1  0]\n",
            " [ 0  0  0  0  0  0  0  0  1  0  0  0  0  1  0 -1  0  0  0  0  0  0  0  0\n",
            "  -1  0  0  0  0  1  0  1]\n",
            " [ 0  0 -1  0  0  0 -1  0  0  0  0  0  0  0  0  0  0  1  0  0 -1 -1  0  0\n",
            "   0 -1  0 -1  0  0  1 -1]]\n",
            "\n",
            "\n",
            "MT * M is: \n",
            "[[10 -1 -3 -1 -2 -1 -2]\n",
            " [-1 10 -2 -2 -2 -2 -1]\n",
            " [-3 -2 10 -1 -2  0 -2]\n",
            " [-1 -2 -1  9 -2 -1 -2]\n",
            " [-2 -2 -2 -2 10 -1 -1]\n",
            " [-1 -2  0 -1 -1  6 -1]\n",
            " [-2 -1 -2 -2 -1 -1  9]]\n",
            "\n",
            "\n",
            "MT * pts is:\n",
            "[[  29]\n",
            " [ -87]\n",
            " [ 128]\n",
            " [ 133]\n",
            " [-133]\n",
            " [  30]\n",
            " [-100]]\n"
          ],
          "name": "stdout"
        }
      ]
    },
    {
      "cell_type": "markdown",
      "metadata": {
        "id": "x38H0uPwbhpF"
      },
      "source": [
        "If $M^T M$ has an inverse, then we can use it.  But, if $M^T M$ is singular, then it doesn't have an inverse.  In this situation, we need to replace every entry in one row (say the bottom row) of $M^T M$ and $M^T \\vec{pts}$ with 1's.  (This knocks the system out of *not* having an inverse, so it will now have an inverse.)"
      ]
    },
    {
      "cell_type": "code",
      "metadata": {
        "id": "1ebWW4rZaopa",
        "colab": {
          "base_uri": "https://localhost:8080/"
        },
        "outputId": "574c0ab7-4ea8-4efc-ae0f-de168d2bad7a"
      },
      "source": [
        "#  Check if MTM is singular\n",
        "is_singular(MT*M)"
      ],
      "execution_count": null,
      "outputs": [
        {
          "output_type": "execute_result",
          "data": {
            "text/plain": [
              "True"
            ]
          },
          "metadata": {
            "tags": []
          },
          "execution_count": 62
        }
      ]
    },
    {
      "cell_type": "code",
      "metadata": {
        "id": "Hs_ZR78AbziT",
        "colab": {
          "base_uri": "https://localhost:8080/"
        },
        "outputId": "a01e5bbe-2ce9-466f-b443-f7971bbf6a59"
      },
      "source": [
        "# If MTM is singular, then adjust one row of MTM and MT pts to be just 1's:\n",
        "\n",
        "#MTM[7] is the entire 4th row of MTM, \n",
        "#so MTM[7] = 1 will put 1's in MTM's 4th row.\n",
        "\n",
        "MTM[6] = 1\n",
        "MTpts[6] = 1\n",
        "\n",
        "print(\"MTM is now: \")\n",
        "print(MTM)\n",
        "\n",
        "print(\"and MTpts is now:\")\n",
        "print(MTpts)\n",
        "\n",
        "print(\"Is our modified MTM singular?\")\n",
        "is_singular(MTM)"
      ],
      "execution_count": null,
      "outputs": [
        {
          "output_type": "stream",
          "text": [
            "MTM is now: \n",
            "[[10 -1 -3 -1 -2 -1 -2]\n",
            " [-1 10 -2 -2 -2 -2 -1]\n",
            " [-3 -2 10 -1 -2  0 -2]\n",
            " [-1 -2 -1  9 -2 -1 -2]\n",
            " [-2 -2 -2 -2 10 -1 -1]\n",
            " [-1 -2  0 -1 -1  6 -1]\n",
            " [ 1  1  1  1  1  1  1]]\n",
            "and MTpts is now:\n",
            "[[  29]\n",
            " [ -87]\n",
            " [ 128]\n",
            " [ 133]\n",
            " [-133]\n",
            " [  30]\n",
            " [   1]]\n",
            "Is our modified MTM singular?\n"
          ],
          "name": "stdout"
        },
        {
          "output_type": "execute_result",
          "data": {
            "text/plain": [
              "False"
            ]
          },
          "metadata": {
            "tags": []
          },
          "execution_count": 64
        }
      ]
    },
    {
      "cell_type": "code",
      "metadata": {
        "id": "48WK4ZH7WRxH",
        "colab": {
          "base_uri": "https://localhost:8080/"
        },
        "outputId": "34e2f317-dec9-459f-9071-a43df77cfd34"
      },
      "source": [
        "#Find our solution using the inverse of MTM:\n",
        "\n",
        "#First, find the inverse of MTM:\n",
        "MTMI = np.linalg.inv(MTM)\n",
        "\n",
        "print(\"The inverse of MTM is:\")\n",
        "print(MTMI)\n",
        "\n",
        "#Now, use the inverse of MTM to solve for the rankings:\n",
        "\n",
        "print(\"\\n\")\n",
        "print(\"The solution are rankings:\")\n",
        "MTMI * MTpts"
      ],
      "execution_count": null,
      "outputs": [
        {
          "output_type": "stream",
          "text": [
            "The inverse of MTM is:\n",
            "[[ 8.47282791e-02 -9.08800754e-03  8.21486476e-03 -9.35066672e-03\n",
            "  -8.26182504e-04 -1.44136213e-02  1.42857143e-01]\n",
            " [ 5.69890821e-04  9.25260729e-02  6.92226323e-03  8.49503455e-03\n",
            "   8.41146117e-03  9.94523158e-03  1.42857143e-01]\n",
            " [ 7.92991935e-03 -3.02058054e-03  8.65454030e-02 -8.88822738e-03\n",
            "  -2.74598231e-04 -2.50218684e-02  1.42857143e-01]\n",
            " [-8.32788780e-03 -1.40084895e-04 -7.58050305e-03  9.23414155e-02\n",
            "  -1.27349904e-05 -9.85608665e-03  1.42857143e-01]\n",
            " [ 7.71820013e-03  7.29794545e-03  8.55472982e-03  7.50886873e-03\n",
            "   9.15725405e-02 -3.57694043e-03  1.42857143e-01]\n",
            " [-1.05143265e-03  1.36495219e-02 -1.13747343e-02  2.48332313e-03\n",
            "   1.24086563e-03  1.47852443e-01  1.42857143e-01]\n",
            " [-9.15669689e-02 -1.01224867e-01 -9.12820235e-02 -9.25897479e-02\n",
            "  -1.00111352e-01 -1.04929158e-01  1.42857143e-01]]\n",
            "\n",
            "\n",
            "The solution are rankings:\n"
          ],
          "name": "stdout"
        },
        {
          "output_type": "execute_result",
          "data": {
            "text/plain": [
              "matrix([[  2.87597154],\n",
              "        [ -6.69486247],\n",
              "        [  9.81715817],\n",
              "        [ 10.93065081],\n",
              "        [-10.46100745],\n",
              "        [  2.06971134],\n",
              "        [ -7.53762195]])"
            ]
          },
          "metadata": {
            "tags": []
          },
          "execution_count": 65
        }
      ]
    },
    {
      "cell_type": "markdown",
      "metadata": {
        "id": "YOTdLT4-R-1h"
      },
      "source": [
        "#  Game Data  - Fall Sports\n",
        "\n",
        "Find the game data for the four teams in the NFC North and NFC South.\n",
        "\n",
        "The teams are:\n",
        "\n",
        "* **NFC North:**  Green Bay Packers, Chicago Bears, Detroit Lions, Minnesota Vikings\n",
        "* **NFC South:**  Atlanta Falcons, Carolina Panthers, New Orleans Saints, Tampa Bay Buccaneers\n",
        "\n",
        "\n",
        "It may be helpful to do a google search to find the data.\n",
        "\n",
        "Be sure to create your matrix on the handout, then enter the data for the system below.\n",
        "\n",
        "# Game Data - Spring Sports\n",
        "\n",
        "Find the game data for the seven teams in the Western Division for Men's Big Ten Basketball.\n",
        "\n",
        "**The teams:**  Wisconsin, Minnesota, Iowa, Illinois, Nebraska, Purdue, and Northewstern.\n",
        "\n",
        "I've provided **most** of the data, but you have to do a Google search to find the scores for the last two teams.\n",
        "\n",
        "Be sure to create your matrix on the handout, then enter the data for the system below.\n"
      ]
    },
    {
      "cell_type": "code",
      "metadata": {
        "id": "RrMkbXIC5v_X",
        "colab": {
          "base_uri": "https://localhost:8080/"
        },
        "outputId": "de392385-d71a-4781-d921-29b877a52d67"
      },
      "source": [
        "# create the matrix:\n",
        "M = np.matrix([[1, 0, 0, 0, -1, 0, 0],\n",
        "              [1, -1, 0, 0, 0, 0, 0], \n",
        "              [1, 0, 0, 0, 0, 0, -1], \n",
        "             [-1, 0, 1, 0, 0, 0, 0],\n",
        "             [1, 0, 0, 0, -1, 0, 0],\n",
        "             [-1, 0, 1, 0, 0, 0, 0],\n",
        "             [1, 0, 0, 0, 0, 0, -1],\n",
        "             [-1, 0, 0, 1, 0, 0, 0],\n",
        "             [-1, 0, 0, 0, 0, 1, 0],\n",
        "             [-1, 0, 1, 0, 0, 0, 0],\n",
        "             [0, -1, 0, 1, 0, 0, 0],\n",
        "             [0, 1, -1, 0, 0, 0, 0],\n",
        "             [0, -1, 1, 0, 0, 0, 0],\n",
        "             [0, -1, 0, 0, 0, 1, 0],\n",
        "             [0, 1, 0, 0, -1, 0, 0],\n",
        "             [0, 1, 0, 0, 0, -1, 0],\n",
        "             [0, -1, 0, 1, 0, 0, 0],\n",
        "             [0, -1, 0, 0, 0, 0, 1],\n",
        "             [0, -1, 0, 0, 1, 0, 0],\n",
        "             [0, 0, 1, 0, -1, 0, 0],\n",
        "             [0, 0, 1, 0, 0, 0, -1],\n",
        "             [0, 0, 1, 0, 0, 0, -1],\n",
        "             [0, 0, -1, 1, 0, 0, 0],\n",
        "             [0, 0, 1, 0, -1, 0, 0],\n",
        "             [0, 0, 0, 1, 0, -1, 0],\n",
        "             [0, 0, 0, 1, 0, 0, -1],\n",
        "             [0, 0, 0, 1, -1, 0, 0],\n",
        "             [0, 0, 0, 1, 0, 0, -1],\n",
        "             [0, 0, 0, 1, -1, 0, 0],\n",
        "             [0, 0, 0, 0, -1, 1, 0],\n",
        "             [0, 0, 0, 0, -1, 0, 1],\n",
        "             [0, 0, 0, 0, 0, 1, -1]])\n",
        "\n",
        "\n",
        "# create the vector for the right hand side:\n",
        "pts = np.matrix([[14], [12], [16], [15], [13], [15], [17], [5], [4], [4], [27], [7], [15], [19], [18], [3], [31], [7], [4], [15], [15], [23], [5], [38], [12], [25], [5], [7], [16], [17], [1], [5]])\n",
        " \n",
        "#Make sure the system looks appropriate:\n",
        "print(np.c_[M,pts])"
      ],
      "execution_count": null,
      "outputs": [
        {
          "output_type": "stream",
          "text": [
            "[[ 1  0  0  0 -1  0  0 14]\n",
            " [ 1 -1  0  0  0  0  0 12]\n",
            " [ 1  0  0  0  0  0 -1 16]\n",
            " [-1  0  1  0  0  0  0 15]\n",
            " [ 1  0  0  0 -1  0  0 13]\n",
            " [-1  0  1  0  0  0  0 15]\n",
            " [ 1  0  0  0  0  0 -1 17]\n",
            " [-1  0  0  1  0  0  0  5]\n",
            " [-1  0  0  0  0  1  0  4]\n",
            " [-1  0  1  0  0  0  0  4]\n",
            " [ 0 -1  0  1  0  0  0 27]\n",
            " [ 0  1 -1  0  0  0  0  7]\n",
            " [ 0 -1  1  0  0  0  0 15]\n",
            " [ 0 -1  0  0  0  1  0 19]\n",
            " [ 0  1  0  0 -1  0  0 18]\n",
            " [ 0  1  0  0  0 -1  0  3]\n",
            " [ 0 -1  0  1  0  0  0 31]\n",
            " [ 0 -1  0  0  0  0  1  7]\n",
            " [ 0 -1  0  0  1  0  0  4]\n",
            " [ 0  0  1  0 -1  0  0 15]\n",
            " [ 0  0  1  0  0  0 -1 15]\n",
            " [ 0  0  1  0  0  0 -1 23]\n",
            " [ 0  0 -1  1  0  0  0  5]\n",
            " [ 0  0  1  0 -1  0  0 38]\n",
            " [ 0  0  0  1  0 -1  0 12]\n",
            " [ 0  0  0  1  0  0 -1 25]\n",
            " [ 0  0  0  1 -1  0  0  5]\n",
            " [ 0  0  0  1  0  0 -1  7]\n",
            " [ 0  0  0  1 -1  0  0 16]\n",
            " [ 0  0  0  0 -1  1  0 17]\n",
            " [ 0  0  0  0 -1  0  1  1]\n",
            " [ 0  0  0  0  0  1 -1  5]]\n"
          ],
          "name": "stdout"
        }
      ]
    },
    {
      "cell_type": "code",
      "metadata": {
        "id": "TLLB3Ebe587M",
        "colab": {
          "base_uri": "https://localhost:8080/"
        },
        "outputId": "935956c0-9e31-4a3c-c9f1-29bbc53d490c"
      },
      "source": [
        "# Generate the transpose of M:\n",
        "MT = M.transpose()\n",
        "\n",
        "print(\"The Transpose of M is:\")\n",
        "print(MT)\n",
        "\n",
        "# and find MT*M and MT*pts:\n",
        "print(\"\\n\")\n",
        "print(\"MT * M is: \")\n",
        "MTM = MT * M\n",
        "print(MTM)\n",
        "\n",
        "print(\"\\n\")\n",
        "print(\"MT * pts is:\")\n",
        "MTpts = MT * pts\n",
        "print(MTpts)\n"
      ],
      "execution_count": null,
      "outputs": [
        {
          "output_type": "stream",
          "text": [
            "The Transpose of M is:\n",
            "[[ 1  1  1 -1  1 -1  1 -1 -1 -1  0  0  0  0  0  0  0  0  0  0  0  0  0  0\n",
            "   0  0  0  0  0  0  0  0]\n",
            " [ 0 -1  0  0  0  0  0  0  0  0 -1  1 -1 -1  1  1 -1 -1 -1  0  0  0  0  0\n",
            "   0  0  0  0  0  0  0  0]\n",
            " [ 0  0  0  1  0  1  0  0  0  1  0 -1  1  0  0  0  0  0  0  1  1  1 -1  1\n",
            "   0  0  0  0  0  0  0  0]\n",
            " [ 0  0  0  0  0  0  0  1  0  0  1  0  0  0  0  0  1  0  0  0  0  0  1  0\n",
            "   1  1  1  1  1  0  0  0]\n",
            " [-1  0  0  0 -1  0  0  0  0  0  0  0  0  0 -1  0  0  0  1 -1  0  0  0 -1\n",
            "   0  0 -1  0 -1 -1 -1  0]\n",
            " [ 0  0  0  0  0  0  0  0  1  0  0  0  0  1  0 -1  0  0  0  0  0  0  0  0\n",
            "  -1  0  0  0  0  1  0  1]\n",
            " [ 0  0 -1  0  0  0 -1  0  0  0  0  0  0  0  0  0  0  1  0  0 -1 -1  0  0\n",
            "   0 -1  0 -1  0  0  1 -1]]\n",
            "\n",
            "\n",
            "MT * M is: \n",
            "[[10 -1 -3 -1 -2 -1 -2]\n",
            " [-1 10 -2 -2 -2 -2 -1]\n",
            " [-3 -2 10 -1 -2  0 -2]\n",
            " [-1 -2 -1  9 -2 -1 -2]\n",
            " [-2 -2 -2 -2 10 -1 -1]\n",
            " [-1 -2  0 -1 -1  6 -1]\n",
            " [-2 -1 -2 -2 -1 -1  9]]\n",
            "\n",
            "\n",
            "MT * pts is:\n",
            "[[  29]\n",
            " [ -87]\n",
            " [ 128]\n",
            " [ 133]\n",
            " [-133]\n",
            " [  30]\n",
            " [-100]]\n"
          ],
          "name": "stdout"
        }
      ]
    },
    {
      "cell_type": "code",
      "metadata": {
        "id": "VXqKSDj06BVa",
        "colab": {
          "base_uri": "https://localhost:8080/"
        },
        "outputId": "e5f11dd9-ae0d-4d34-9c45-6118c786a93a"
      },
      "source": [
        "#  Check if MTM is singular\n",
        "is_singular(MT*M)"
      ],
      "execution_count": null,
      "outputs": [
        {
          "output_type": "execute_result",
          "data": {
            "text/plain": [
              "True"
            ]
          },
          "metadata": {
            "tags": []
          },
          "execution_count": 68
        }
      ]
    },
    {
      "cell_type": "code",
      "metadata": {
        "id": "5E2eXRT76MQh",
        "colab": {
          "base_uri": "https://localhost:8080/"
        },
        "outputId": "76ed55ab-1542-401a-ba84-9263efa5f8b3"
      },
      "source": [
        "# Careful - you might not need to do this!  \n",
        "# Be sure to check whether MTM is singular on the previous line.\n",
        "\n",
        "# If MTM is singular, then adjust one row of MTM and MT pts to be just 1's:\n",
        "\n",
        "#MTM[3] is the entire 4th row of MTM, \n",
        "#so MTM[3] = 1 will put 1's in MTM's 4th row.\n",
        "\n",
        "MTM[6] = 1\n",
        "MTpts[6] = 1\n",
        "\n",
        "print(\"MTM is now: \")\n",
        "print(MTM)\n",
        "\n",
        "print(\"and MTpts is now:\")\n",
        "print(MTpts)\n",
        "\n",
        "print(\"Is our modified MTM singular?\")\n",
        "is_singular(MTM)"
      ],
      "execution_count": null,
      "outputs": [
        {
          "output_type": "stream",
          "text": [
            "MTM is now: \n",
            "[[10 -1 -3 -1 -2 -1 -2]\n",
            " [-1 10 -2 -2 -2 -2 -1]\n",
            " [-3 -2 10 -1 -2  0 -2]\n",
            " [-1 -2 -1  9 -2 -1 -2]\n",
            " [-2 -2 -2 -2 10 -1 -1]\n",
            " [-1 -2  0 -1 -1  6 -1]\n",
            " [ 1  1  1  1  1  1  1]]\n",
            "and MTpts is now:\n",
            "[[  29]\n",
            " [ -87]\n",
            " [ 128]\n",
            " [ 133]\n",
            " [-133]\n",
            " [  30]\n",
            " [   1]]\n",
            "Is our modified MTM singular?\n"
          ],
          "name": "stdout"
        },
        {
          "output_type": "execute_result",
          "data": {
            "text/plain": [
              "False"
            ]
          },
          "metadata": {
            "tags": []
          },
          "execution_count": 69
        }
      ]
    },
    {
      "cell_type": "code",
      "metadata": {
        "id": "UkDKmNba6YHi",
        "colab": {
          "base_uri": "https://localhost:8080/"
        },
        "outputId": "827feff9-9d51-41db-b270-773d9fd4485b"
      },
      "source": [
        "#Find our solution using the inverse of MTM:\n",
        "\n",
        "#First, find the inverse of MTM:\n",
        "MTMI = np.linalg.inv(MTM)\n",
        "\n",
        "print(\"The inverse of MTM is:\")\n",
        "print(MTMI)\n",
        "\n",
        "#Now, use the inverse of MTM to solve for the rankings:\n",
        "\n",
        "print(\"\\n\")\n",
        "print(\"The solution are rankings:\")\n",
        "MTMI * MTpts"
      ],
      "execution_count": null,
      "outputs": [
        {
          "output_type": "stream",
          "text": [
            "The inverse of MTM is:\n",
            "[[ 8.47282791e-02 -9.08800754e-03  8.21486476e-03 -9.35066672e-03\n",
            "  -8.26182504e-04 -1.44136213e-02  1.42857143e-01]\n",
            " [ 5.69890821e-04  9.25260729e-02  6.92226323e-03  8.49503455e-03\n",
            "   8.41146117e-03  9.94523158e-03  1.42857143e-01]\n",
            " [ 7.92991935e-03 -3.02058054e-03  8.65454030e-02 -8.88822738e-03\n",
            "  -2.74598231e-04 -2.50218684e-02  1.42857143e-01]\n",
            " [-8.32788780e-03 -1.40084895e-04 -7.58050305e-03  9.23414155e-02\n",
            "  -1.27349904e-05 -9.85608665e-03  1.42857143e-01]\n",
            " [ 7.71820013e-03  7.29794545e-03  8.55472982e-03  7.50886873e-03\n",
            "   9.15725405e-02 -3.57694043e-03  1.42857143e-01]\n",
            " [-1.05143265e-03  1.36495219e-02 -1.13747343e-02  2.48332313e-03\n",
            "   1.24086563e-03  1.47852443e-01  1.42857143e-01]\n",
            " [-9.15669689e-02 -1.01224867e-01 -9.12820235e-02 -9.25897479e-02\n",
            "  -1.00111352e-01 -1.04929158e-01  1.42857143e-01]]\n",
            "\n",
            "\n",
            "The solution are rankings:\n"
          ],
          "name": "stdout"
        },
        {
          "output_type": "execute_result",
          "data": {
            "text/plain": [
              "matrix([[  2.87597154],\n",
              "        [ -6.69486247],\n",
              "        [  9.81715817],\n",
              "        [ 10.93065081],\n",
              "        [-10.46100745],\n",
              "        [  2.06971134],\n",
              "        [ -7.53762195]])"
            ]
          },
          "metadata": {
            "tags": []
          },
          "execution_count": 70
        }
      ]
    }
  ]
}